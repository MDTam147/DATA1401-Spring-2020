{
  "nbformat": 4,
  "nbformat_minor": 0,
  "metadata": {
    "kernelspec": {
      "name": "python3",
      "display_name": "Python 3"
    },
    "colab": {
      "name": "Copy of Lab-3.ipynb",
      "provenance": [],
      "collapsed_sections": []
    }
  },
  "cells": [
    {
      "cell_type": "markdown",
      "metadata": {
        "id": "CyMDr8g8FPR-",
        "colab_type": "text"
      },
      "source": [
        "# Lab 3- Tic Tac Toe\n",
        "\n",
        "[![Open In Colab](https://colab.research.google.com/assets/colab-badge.svg)](https://colab.research.google.com/github//afarbin/DATA1401-Spring-2020/blob/master/Labs/Lab-3/Lab-3.ipynb)\n",
        "\n",
        "In this lab your will build a n x n Tic Tac Toe game. As you do the exercises, make sure your solutions work for any size Tic Tac Toe game. "
      ]
    },
    {
      "cell_type": "markdown",
      "metadata": {
        "id": "VhOOPImeFPSC",
        "colab_type": "text"
      },
      "source": [
        "*Exercise 1:* Write a function that creates an n by n matrix (of list of lists) which will represent the state of a Tie Tac Toe game. Let 0, 1, and 2 represent empty, \"X\", or \"O\".\n"
      ]
    },
    {
      "cell_type": "code",
      "metadata": {
        "deletable": true,
        "editable": true,
        "id": "woF5myuJFPSD",
        "colab_type": "code",
        "colab": {}
      },
      "source": [
        "\n",
        "empty=0\n",
        "\n",
        "def make_game_board(size=3):\n",
        "    # Make an empty board\n",
        "    board=[[empty]*size for i in range(size)]\n",
        "\n",
        "    return board\n",
        "    "
      ],
      "execution_count": 0,
      "outputs": []
    },
    {
      "cell_type": "code",
      "metadata": {
        "deletable": true,
        "editable": true,
        "id": "hZA1rsO4FPSJ",
        "colab_type": "code",
        "colab": {}
      },
      "source": [
        "board=make_game_board()"
      ],
      "execution_count": 0,
      "outputs": []
    },
    {
      "cell_type": "markdown",
      "metadata": {
        "deletable": true,
        "editable": true,
        "id": "LJdjy_MeFPSN",
        "colab_type": "text"
      },
      "source": [
        "*Exercise 2:* Write a function that takes a `n` by `n` matrix representing a tic-tac-toe game, and returns -1, 0, 1, or 2 indicating the game is incomplete, the game is a draw, player 1 has won, or player 2 has one, respectively. Here are some example inputs you can use to test your code:"
      ]
    },
    {
      "cell_type": "code",
      "metadata": {
        "deletable": true,
        "editable": true,
        "id": "3AvgD2nMFPSP",
        "colab_type": "code",
        "colab": {}
      },
      "source": [
        "winner_is_2 = [[2, 2, 0],\n",
        "\t[2, 1, 0],\n",
        "\t[2, 1, 1]]\n",
        "\n",
        "winner_is_1 = [[1, 2, 0],\n",
        "\t[2, 1, 0],\n",
        "\t[2, 1, 1]]\n",
        "\n",
        "winner_is_also_1 = [[0, 1, 0],\n",
        "\t[2, 1, 0],\n",
        "\t[2, 1, 1]]\n",
        "\n",
        "no_winner = [[1, 2, 0],\n",
        "\t[2, 1, 0],\n",
        "\t[2, 1, 2]]\n",
        "\n",
        "also_no_winner = [[1, 2, 0],\n",
        "\t[2, 1, 0],\n",
        "\t[2, 1, 0]]"
      ],
      "execution_count": 0,
      "outputs": []
    },
    {
      "cell_type": "code",
      "metadata": {
        "deletable": true,
        "editable": true,
        "id": "5Tzi7Lk_FPSV",
        "colab_type": "code",
        "colab": {}
      },
      "source": [
        "def win(board):\n",
        "  \n",
        "  #if player one wins across rows\n",
        "  if(board[0][0] == 1):\n",
        "    if(board[0][1]==1 and board[0][2]==1):\n",
        "      return 1\n",
        "    elif(board[1][0]==1 and board[2][0]==1):\n",
        "      return 1\n",
        "    elif(board[1][1]==1 and board[2][2]==1):\n",
        "      return 1\n",
        "  elif(board[0][1]==1 and board[1][1]==1 and board[2][1]==1):\n",
        "    return 1\n",
        "  elif(board[0][2]==1):\n",
        "    if (board[1][1]==1 and board[0][2]==1) or (board[1][2]==1 and board[2][2]==1):\n",
        "      return 1\n",
        "  elif (board[0][1]==1 and board[1][1]==1 and board[2][1]==1):\n",
        "    return 1\n",
        "  elif (board[0][2]==1 and board[1][2]==1 and board[2][2]==1):\n",
        "    return 1\n",
        "  elif (board[1][0]==1 and board[1][1]==1 and board[1][2]==1):\n",
        "    return 1\n",
        "  elif (board[2][0]==1 and board[2][1]==1 and board[2][2]==1):\n",
        "    return 1\n",
        "  #if player 2 wins across rows\n",
        "  elif(board[0][0] == 2):\n",
        "    if(board[0][1]==2 and board[0][2]==2):\n",
        "      return 2\n",
        "    elif(board[1][0]==2 and board[2][0]==2):\n",
        "      return 2\n",
        "    elif(board[1][1]==2 and board[2][2]==2):\n",
        "      return 2\n",
        "  elif(board[0][1]==2 and board[1][1]==2 and board[2][1]==2):\n",
        "    return 2\n",
        "  elif(board[0][2]==2):\n",
        "    if (board[1][1]==2 and board[2][0]==2) or (board[1][2]==2 and board[2][2]==2):\n",
        "      return 2\n",
        "  elif (board[0][1]==2 and board[1][1]==2 and board[2][1]==2):\n",
        "    return 2\n",
        "  elif (board[1][0]==2 and board[1][1]==2 and board[1][2]==2):\n",
        "    return 2\n",
        "  elif (board[2][0]==2 and board[2][1]==2 and board[2][2]==2):\n",
        "    return 2\n",
        "\n",
        "  #if incomplete\n",
        "  for i in range(len(board)):\n",
        "    for j in range(len(board[0])):\n",
        "      if (board[i][j]==0):\n",
        "        return -1\n",
        "  #draw\n",
        "  return 0\n",
        "  \n",
        "\n",
        "\n",
        "      \n",
        "  "
      ],
      "execution_count": 0,
      "outputs": []
    },
    {
      "cell_type": "code",
      "metadata": {
        "deletable": true,
        "editable": true,
        "id": "BlNJId8WFPSa",
        "colab_type": "code",
        "colab": {
          "base_uri": "https://localhost:8080/",
          "height": 34
        },
        "outputId": "945b6a63-7cb0-4d40-c306-3de5c4a70766"
      },
      "source": [
        "win(winner_is_2)"
      ],
      "execution_count": 46,
      "outputs": [
        {
          "output_type": "execute_result",
          "data": {
            "text/plain": [
              "2"
            ]
          },
          "metadata": {
            "tags": []
          },
          "execution_count": 46
        }
      ]
    },
    {
      "cell_type": "markdown",
      "metadata": {
        "deletable": true,
        "editable": true,
        "id": "ZHyf6ktJFPSg",
        "colab_type": "text"
      },
      "source": [
        "*Exercise 3:* Write a function that takes 2 integers `n` and `m` as input and draws a `n` by `m` game board. For example the following is a 3x3 board:\n",
        "```\n",
        "   --- --- --- \n",
        "  |   |   |   | \n",
        "   --- --- ---  \n",
        "  |   |   |   | \n",
        "   --- --- ---  \n",
        "  |   |   |   | \n",
        "   --- --- --- \n",
        "   ```"
      ]
    },
    {
      "cell_type": "code",
      "metadata": {
        "deletable": true,
        "editable": true,
        "id": "G3t5xLq6FPSi",
        "colab_type": "code",
        "colab": {}
      },
      "source": [
        "\"\"\"def draw():\n",
        "    # initialize an empty board\n",
        "    board = \"\"\n",
        "\n",
        "    for i in range(6):\n",
        "        if i%2 == 0:\n",
        "            board += \"|    \" * 4\n",
        "        else:\n",
        "            board += \" --- \" * 3\n",
        "        board += \"\\n\"\n",
        "\n",
        "    print(board)\"\"\"\n",
        "\n",
        "def draw(n,m):\n",
        "  \n",
        "  board=\"\"\n",
        "\n",
        "  for i in range(n):\n",
        "    board+=\" | \"\n",
        "    board+=\"  | \" * m\n",
        "    board+=\"\\n \"\n",
        "    board+=\" ---\"*m\n",
        "    board+=\"\\n\"\n",
        "\n",
        "\n",
        "  print(board)\n",
        "\n",
        "\n",
        "  \n",
        "    \n",
        "  \n"
      ],
      "execution_count": 0,
      "outputs": []
    },
    {
      "cell_type": "code",
      "metadata": {
        "deletable": true,
        "editable": true,
        "id": "WowklTRcFPSn",
        "colab_type": "code",
        "colab": {
          "base_uri": "https://localhost:8080/",
          "height": 136
        },
        "outputId": "d5b5b10a-c3fc-4b0c-a756-e6e966d08cd6"
      },
      "source": [
        "draw(3,3)"
      ],
      "execution_count": 19,
      "outputs": [
        {
          "output_type": "stream",
          "text": [
            " |   |   |   | \n",
            "  --- --- ---\n",
            " |   |   |   | \n",
            "  --- --- ---\n",
            " |   |   |   | \n",
            "  --- --- ---\n",
            "\n"
          ],
          "name": "stdout"
        }
      ]
    },
    {
      "cell_type": "markdown",
      "metadata": {
        "deletable": true,
        "editable": true,
        "id": "IahQ-qoYFPSs",
        "colab_type": "text"
      },
      "source": [
        "*Exercise 4:* Modify exercise 3, so that it takes a matrix of the form from exercise 2 and draws a tic-tac-tie board with \"X\"s and \"O\"s.  "
      ]
    },
    {
      "cell_type": "code",
      "metadata": {
        "deletable": true,
        "editable": true,
        "id": "C8lkUG57FPSt",
        "colab_type": "code",
        "colab": {}
      },
      "source": [
        "\n",
        "\"\"\"def drawBoard(board):\n",
        "\n",
        "  print(' ' + str(board[0][0]) + ' | ' + str(board[0][1]) + ' | ' + str(board[0][2]))\n",
        "  print('--- --- ---')\n",
        "  print(' ' + str(board[1][0]) + ' | ' + str(board[1][1]) + ' | ' + str(board[1][2]))\n",
        "  print('--- --- ---')\n",
        "  print(' ' + str(board[2][0]) + ' | ' + str(board[2][1]) + ' | ' + str(board[2][2]))\"\"\"\n",
        "\n",
        "\n",
        "def draw(b):\n",
        "\n",
        "  n=len(b)\n",
        "  m=(len(b[0]))\n",
        "  \n",
        "  board=\"\"\n",
        "\n",
        "  for i in range(n):\n",
        "    board+=\" |\"\n",
        "    for j in range(m):\n",
        "      x=str(b[i][j])\n",
        "      board+=\" \"+x+\" |\"\n",
        "\n",
        "    board+=\"\\n \"\n",
        "    board+=\" ---\"*m\n",
        "    board+=\"\\n\"\n",
        "\n",
        "\n",
        "\n",
        "  print(board)\n",
        "\n",
        " \n",
        "\n"
      ],
      "execution_count": 0,
      "outputs": []
    },
    {
      "cell_type": "code",
      "metadata": {
        "deletable": true,
        "editable": true,
        "id": "9scWJztBFPSz",
        "colab_type": "code",
        "outputId": "7a2f88ad-b08b-4596-a426-5e616dec4614",
        "colab": {
          "base_uri": "https://localhost:8080/",
          "height": 136
        }
      },
      "source": [
        "draw(winner_is_1)"
      ],
      "execution_count": 21,
      "outputs": [
        {
          "output_type": "stream",
          "text": [
            " | 1 | 2 | 0 |\n",
            "  --- --- ---\n",
            " | 2 | 1 | 0 |\n",
            "  --- --- ---\n",
            " | 2 | 1 | 1 |\n",
            "  --- --- ---\n",
            "\n"
          ],
          "name": "stdout"
        }
      ]
    },
    {
      "cell_type": "markdown",
      "metadata": {
        "deletable": true,
        "editable": true,
        "id": "5M2JQXOmFPS4",
        "colab_type": "text"
      },
      "source": [
        "*Exercise 5:* Write a function that takes a game board, player number, and `(x,y)` coordinates and places \"X\" or \"O\" in the correct location of the game board. Make sure that you only allow filling previously empty locations. Return `True` or `False` to indicate successful placement of \"X\" or \"O\"."
      ]
    },
    {
      "cell_type": "code",
      "metadata": {
        "deletable": true,
        "editable": true,
        "id": "YZahJXwCFPS5",
        "colab_type": "code",
        "colab": {}
      },
      "source": [
        "def turn(b, player, r, c):\n",
        "  if(b[r][c]==0):\n",
        "\t  b[r][c] = player\n",
        "\t  return True\n",
        "  else:\n",
        "    return False\n"
      ],
      "execution_count": 0,
      "outputs": []
    },
    {
      "cell_type": "code",
      "metadata": {
        "deletable": true,
        "editable": true,
        "id": "qZqMIvgPFPS-",
        "colab_type": "code",
        "outputId": "731bd0f5-4520-4a70-ef1c-9b5f7145ec6e",
        "colab": {
          "base_uri": "https://localhost:8080/",
          "height": 34
        }
      },
      "source": [
        "turn(board, 1, 0, 2)"
      ],
      "execution_count": 23,
      "outputs": [
        {
          "output_type": "execute_result",
          "data": {
            "text/plain": [
              "True"
            ]
          },
          "metadata": {
            "tags": []
          },
          "execution_count": 23
        }
      ]
    },
    {
      "cell_type": "markdown",
      "metadata": {
        "deletable": true,
        "editable": true,
        "id": "PVDXUwCOFPTC",
        "colab_type": "text"
      },
      "source": [
        "*Exercise 6:* Modify Exercise 4 to show column and row labels so that players can specify location using \"A2\" or \"C1\"."
      ]
    },
    {
      "cell_type": "code",
      "metadata": {
        "id": "IauKqoviFPTD",
        "colab_type": "code",
        "colab": {}
      },
      "source": [
        "\n",
        "def draw(b):\n",
        "\n",
        "  n=len(b)\n",
        "  m=(len(b[0]))\n",
        "  \n",
        "  board=\" \"\n",
        "\n",
        "  for t in range(n):\n",
        "    board+=\"   \"+str((t+1))\n",
        "\n",
        "  board+=\"\\n\"\n",
        "\n",
        "  for i in range(n):\n",
        "    board+=chr(65+i)+\" |\"\n",
        "    for j in range(m):\n",
        "      x=str(b[i][j])\n",
        "      board+=\" \"+x+\" |\"\n",
        "\n",
        "    board+=\"\\n  \"\n",
        "    board+=\" ---\"*m\n",
        "    board+=\"\\n\"\n",
        "\n",
        "\n",
        "\n",
        "  print(board)\n",
        "\n",
        " "
      ],
      "execution_count": 0,
      "outputs": []
    },
    {
      "cell_type": "code",
      "metadata": {
        "deletable": true,
        "editable": true,
        "id": "6I8Bru8WFPTJ",
        "colab_type": "code",
        "outputId": "9d3b4b6a-cdcf-4fdb-dbce-be95f79e86af",
        "colab": {
          "base_uri": "https://localhost:8080/",
          "height": 153
        }
      },
      "source": [
        "\n",
        "draw(winner_is_1)"
      ],
      "execution_count": 35,
      "outputs": [
        {
          "output_type": "stream",
          "text": [
            "    1   2   3\n",
            "A | 1 | 2 | 0 |\n",
            "   --- --- ---\n",
            "B | 2 | 1 | 0 |\n",
            "   --- --- ---\n",
            "C | 2 | 1 | 1 |\n",
            "   --- --- ---\n",
            "\n"
          ],
          "name": "stdout"
        }
      ]
    },
    {
      "cell_type": "markdown",
      "metadata": {
        "deletable": true,
        "editable": true,
        "id": "3epGWp-LFPTO",
        "colab_type": "text"
      },
      "source": [
        "*Exercise 7:* Write a function that takes a board, player number, and location specified as in exercise 6 and then calls exercise 5 to correctly modify the board.  "
      ]
    },
    {
      "cell_type": "code",
      "metadata": {
        "deletable": true,
        "editable": true,
        "id": "_naVTLtjFPTP",
        "colab_type": "code",
        "colab": {}
      },
      "source": [
        "def choice(b,p,c):\n",
        "  if(c[0]=='A'):\n",
        "    r=0\n",
        "  elif(c[0]=='B'):\n",
        "    r=1\n",
        "  elif(c[0]=='C'):\n",
        "    r=2\n",
        "  else:\n",
        "    print(\"Incorrect input\\n\")\n",
        "    return False\n",
        "  \n",
        "  if(c[1]=='1'):\n",
        "    c=0\n",
        "  elif(c[1]=='2'):\n",
        "    c=1\n",
        "  elif(c[1]=='3'):\n",
        "    c=2\n",
        "  else:\n",
        "    print(\"Incorrect input\\n\")\n",
        "    return False\n",
        "\n",
        "  return turn(b,p,r,c)"
      ],
      "execution_count": 0,
      "outputs": []
    },
    {
      "cell_type": "code",
      "metadata": {
        "deletable": true,
        "editable": true,
        "id": "BntgF7V1FPTS",
        "colab_type": "code",
        "outputId": "d58b3a3d-d045-4cba-d97a-9d13f7bfc026",
        "colab": {
          "base_uri": "https://localhost:8080/",
          "height": 34
        }
      },
      "source": [
        "choice(board,1,'A2')"
      ],
      "execution_count": 27,
      "outputs": [
        {
          "output_type": "execute_result",
          "data": {
            "text/plain": [
              "True"
            ]
          },
          "metadata": {
            "tags": []
          },
          "execution_count": 27
        }
      ]
    },
    {
      "cell_type": "markdown",
      "metadata": {
        "deletable": true,
        "editable": true,
        "id": "uEBA-hfAFPTW",
        "colab_type": "text"
      },
      "source": [
        "*Exercise 8:* Write a function is called with a board and player number, takes input from the player using python's `input`, and modifies the board using your function from exercise 7. Note that you should keep asking for input until you have gotten a valid input that results in a valid move."
      ]
    },
    {
      "cell_type": "code",
      "metadata": {
        "deletable": true,
        "editable": true,
        "id": "PBGo_sNAFPTX",
        "colab_type": "code",
        "colab": {}
      },
      "source": [
        "def play(b,p):\n",
        "  x=False\n",
        "\n",
        "  while (x!=True):\n",
        "    c=input('Make a Move: ')\n",
        "    if(choice(b,p,c)==True):\n",
        "      draw(b)\n",
        "      x=True\n",
        "    else:\n",
        "      print('Already taken. Try another move\\n')\n",
        "\n",
        "\n"
      ],
      "execution_count": 0,
      "outputs": []
    },
    {
      "cell_type": "code",
      "metadata": {
        "deletable": true,
        "editable": true,
        "id": "sMJR91dfFPTb",
        "colab_type": "code",
        "outputId": "e0e6758a-9433-4eb4-ae39-22f092cc2937",
        "colab": {
          "base_uri": "https://localhost:8080/",
          "height": 221
        }
      },
      "source": [
        "play(board,1)"
      ],
      "execution_count": 29,
      "outputs": [
        {
          "output_type": "stream",
          "text": [
            "Make a Move: A3\n",
            "Already taken. Try another move\n",
            "\n",
            "Make a Move: B2\n",
            "    0   1   2\n",
            "A | 0 | 1 | 1 |\n",
            "   --- --- ---\n",
            "B | 0 | 1 | 0 |\n",
            "   --- --- ---\n",
            "C | 0 | 0 | 0 |\n",
            "   --- --- ---\n",
            "\n"
          ],
          "name": "stdout"
        }
      ]
    },
    {
      "cell_type": "markdown",
      "metadata": {
        "deletable": true,
        "editable": true,
        "id": "-jJbs38cFPTf",
        "colab_type": "text"
      },
      "source": [
        "*Exercise 9:* Use all of the previous exercises to implement a full tic-tac-toe game, where an appropriate board is drawn, 2 players are repeatedly asked for a location coordinates of where they wish to place a mark, and the game status is checked until a player wins or a draw occurs."
      ]
    },
    {
      "cell_type": "code",
      "metadata": {
        "deletable": true,
        "editable": true,
        "id": "gEwthtMjFPTg",
        "colab_type": "code",
        "colab": {}
      },
      "source": [
        "def game(b):\n",
        "  p1 = False\n",
        "  p2 = True\n",
        "  x = 0\n",
        "  while(x!=1 or x!=2):\n",
        "    if (p1==False):\n",
        "      play(b,1)\n",
        "      p1 = True\n",
        "      p2 = False\n",
        "    else:\n",
        "      play(b, 2)\n",
        "      p2 = True\n",
        "      p1 = False\n",
        "    \n",
        "    x = win(b)\n",
        "    print(x)\n",
        "    print(\"\\n\")\n",
        "\n",
        "    if (x==1 or x==2):\n",
        "      break\n",
        "\n",
        "  print(\"Winner is Player \"+ str(x))\n",
        "\n",
        "\n",
        "\n"
      ],
      "execution_count": 0,
      "outputs": []
    },
    {
      "cell_type": "code",
      "metadata": {
        "deletable": true,
        "editable": true,
        "id": "4lGVxnzwFPTj",
        "colab_type": "code",
        "outputId": "9b96fe76-3ae6-420e-cbbd-d660d60c6894",
        "colab": {
          "base_uri": "https://localhost:8080/",
          "height": 1000
        }
      },
      "source": [
        "  b1 = make_game_board()\n",
        "  print(b1)\n",
        "  game(b1)"
      ],
      "execution_count": 52,
      "outputs": [
        {
          "output_type": "stream",
          "text": [
            "[[0, 0, 0], [0, 0, 0], [0, 0, 0]]\n",
            "Make a Move: A1\n",
            "    1   2   3\n",
            "A | 1 | 0 | 0 |\n",
            "   --- --- ---\n",
            "B | 0 | 0 | 0 |\n",
            "   --- --- ---\n",
            "C | 0 | 0 | 0 |\n",
            "   --- --- ---\n",
            "\n",
            "-1\n",
            "\n",
            "\n",
            "Make a Move: B1\n",
            "    1   2   3\n",
            "A | 1 | 0 | 0 |\n",
            "   --- --- ---\n",
            "B | 2 | 0 | 0 |\n",
            "   --- --- ---\n",
            "C | 0 | 0 | 0 |\n",
            "   --- --- ---\n",
            "\n",
            "-1\n",
            "\n",
            "\n",
            "Make a Move: A2\n",
            "    1   2   3\n",
            "A | 1 | 1 | 0 |\n",
            "   --- --- ---\n",
            "B | 2 | 0 | 0 |\n",
            "   --- --- ---\n",
            "C | 0 | 0 | 0 |\n",
            "   --- --- ---\n",
            "\n",
            "-1\n",
            "\n",
            "\n",
            "Make a Move: B2\n",
            "    1   2   3\n",
            "A | 1 | 1 | 0 |\n",
            "   --- --- ---\n",
            "B | 2 | 2 | 0 |\n",
            "   --- --- ---\n",
            "C | 0 | 0 | 0 |\n",
            "   --- --- ---\n",
            "\n",
            "-1\n",
            "\n",
            "\n",
            "Make a Move: A3\n",
            "    1   2   3\n",
            "A | 1 | 1 | 1 |\n",
            "   --- --- ---\n",
            "B | 2 | 2 | 0 |\n",
            "   --- --- ---\n",
            "C | 0 | 0 | 0 |\n",
            "   --- --- ---\n",
            "\n",
            "1\n",
            "\n",
            "\n",
            "Winner is Player 1\n"
          ],
          "name": "stdout"
        }
      ]
    },
    {
      "cell_type": "markdown",
      "metadata": {
        "deletable": true,
        "editable": true,
        "id": "aBxjasGkFPTm",
        "colab_type": "text"
      },
      "source": [
        "*Exercise 10:* Test that your game works for 5x5 Tic Tac Toe.  "
      ]
    },
    {
      "cell_type": "code",
      "metadata": {
        "deletable": true,
        "editable": true,
        "id": "XiHHEuoQFPTn",
        "colab_type": "code",
        "colab": {}
      },
      "source": [
        "# Test your solution here"
      ],
      "execution_count": 0,
      "outputs": []
    },
    {
      "cell_type": "markdown",
      "metadata": {
        "deletable": true,
        "editable": true,
        "id": "gjqSJ8H1FPTq",
        "colab_type": "text"
      },
      "source": [
        "*Exercise 11: (Extra Credit)* Develop a version of the game where one player is the computer. Note that you don't need to do an extensive seach for the best move. You can have the computer simply protect against loosing and otherwise try to win with straight or diagonal patterns."
      ]
    },
    {
      "cell_type": "code",
      "metadata": {
        "deletable": true,
        "editable": true,
        "id": "xx98S4dZFPTr",
        "colab_type": "code",
        "colab": {}
      },
      "source": [
        "# Write you solution here"
      ],
      "execution_count": 0,
      "outputs": []
    },
    {
      "cell_type": "code",
      "metadata": {
        "deletable": true,
        "editable": true,
        "id": "nOHqZHLSFPTv",
        "colab_type": "code",
        "colab": {}
      },
      "source": [
        "# Test your solution here"
      ],
      "execution_count": 0,
      "outputs": []
    }
  ]
}