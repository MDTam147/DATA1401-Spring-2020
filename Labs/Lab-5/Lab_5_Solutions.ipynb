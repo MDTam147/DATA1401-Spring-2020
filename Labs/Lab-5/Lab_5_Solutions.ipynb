{
  "nbformat": 4,
  "nbformat_minor": 0,
  "metadata": {
    "kernelspec": {
      "display_name": "Python 3",
      "language": "python",
      "name": "python3"
    },
    "language_info": {
      "codemirror_mode": {
        "name": "ipython",
        "version": 3
      },
      "file_extension": ".py",
      "mimetype": "text/x-python",
      "name": "python",
      "nbconvert_exporter": "python",
      "pygments_lexer": "ipython3",
      "version": "3.8.1"
    },
    "colab": {
      "name": "Lab-5_Solutions.ipynb",
      "provenance": [],
      "collapsed_sections": []
    }
  },
  "cells": [
    {
      "cell_type": "markdown",
      "metadata": {
        "id": "0r8zMAHz0q-f",
        "colab_type": "text"
      },
      "source": [
        "# Lab 5- Object Oriented Programming\n",
        "\n",
        "[![Open In Colab](https://colab.research.google.com/assets/colab-badge.svg)](https://colab.research.google.com/github//afarbin/DATA1401-Spring-2020/blob/master/Labs/Lab-5/Lab-5.ipynb)\n",
        "\n",
        "For all of the exercises below, make sure you provide tests of your solutions.\n"
      ]
    },
    {
      "cell_type": "markdown",
      "metadata": {
        "id": "LWuXY6500q-i",
        "colab_type": "text"
      },
      "source": [
        "1. Write a \"counter\" class that can be incremented up to a specified maximum value, will print an error if an attempt is made to increment beyond that value, and allows reseting the counter. "
      ]
    },
    {
      "cell_type": "code",
      "metadata": {
        "id": "drOCjahm0q-l",
        "colab_type": "code",
        "colab": {}
      },
      "source": [
        "class counter:\n",
        "    def __init__(self,max_val):\n",
        "        self.max_val=max_val\n",
        "        self.cur_val=1\n",
        "        \n",
        "    def increment(self):\n",
        "        if self.cur_val>self.max_val:\n",
        "            print(\"Max value reached.\")\n",
        "        else:\n",
        "            self.cur_val+=1\n",
        "            \n",
        "    def reset(self):\n",
        "        self.cur_val=1\n",
        "        "
      ],
      "execution_count": 0,
      "outputs": []
    },
    {
      "cell_type": "code",
      "metadata": {
        "id": "ebSzCUsS0q-w",
        "colab_type": "code",
        "colab": {}
      },
      "source": [
        "my_counter=counter(3)"
      ],
      "execution_count": 0,
      "outputs": []
    },
    {
      "cell_type": "code",
      "metadata": {
        "id": "aJWsasrQ0q-6",
        "colab_type": "code",
        "outputId": "7fb6bca2-428e-4aca-8115-5c7833ace149",
        "colab": {
          "base_uri": "https://localhost:8080/",
          "height": 51
        }
      },
      "source": [
        "my_counter.increment()\n",
        "my_counter.increment()\n",
        "my_counter.increment()\n",
        "my_counter.increment()\n",
        "my_counter.increment()"
      ],
      "execution_count": 10,
      "outputs": [
        {
          "output_type": "stream",
          "text": [
            "Max value reached.\n",
            "Max value reached.\n"
          ],
          "name": "stdout"
        }
      ]
    },
    {
      "cell_type": "code",
      "metadata": {
        "id": "OTArrRYJ0q_O",
        "colab_type": "code",
        "colab": {}
      },
      "source": [
        "my_counter.cur_val=100"
      ],
      "execution_count": 0,
      "outputs": []
    },
    {
      "cell_type": "markdown",
      "metadata": {
        "id": "d42N5Ut60q_s",
        "colab_type": "text"
      },
      "source": [
        "2. Copy and paste your solution to question 1 and modify it so that all the data held by the counter is private. Implement functions to check the value of the counter, check the maximum value, and check if the counter is at the maximum."
      ]
    },
    {
      "cell_type": "code",
      "metadata": {
        "id": "M713ookV0q_u",
        "colab_type": "code",
        "colab": {}
      },
      "source": [
        "class counter:\n",
        "    def __init__(self,max_val):\n",
        "        self.__max_val=max_val\n",
        "        self.__cur_val=1\n",
        "        \n",
        "    def increment(self):\n",
        "        if self.__cur_val>self.__max_val:\n",
        "            print(\"Max value reached.\")\n",
        "        else:\n",
        "            self.__cur_val+=1\n",
        "            \n",
        "    def reset(self):\n",
        "        self.__cur_val=1\n",
        "        \n",
        "    def cur_val(self):\n",
        "        return self.__cur_val\n",
        "\n",
        "    def max_val(self):\n",
        "        return self.__max_val\n",
        "\n"
      ],
      "execution_count": 0,
      "outputs": []
    },
    {
      "cell_type": "code",
      "metadata": {
        "id": "G0LMqCqX0q_2",
        "colab_type": "code",
        "colab": {}
      },
      "source": [
        "my_counter=counter(3)"
      ],
      "execution_count": 0,
      "outputs": []
    },
    {
      "cell_type": "code",
      "metadata": {
        "id": "a5noExRa0rAE",
        "colab_type": "code",
        "outputId": "2a1fc800-ee17-492d-93d6-1743ce9cb0bc",
        "colab": {
          "base_uri": "https://localhost:8080/",
          "height": 34
        }
      },
      "source": [
        "my_counter.cur_val()"
      ],
      "execution_count": 14,
      "outputs": [
        {
          "output_type": "execute_result",
          "data": {
            "text/plain": [
              "1"
            ]
          },
          "metadata": {
            "tags": []
          },
          "execution_count": 14
        }
      ]
    },
    {
      "cell_type": "markdown",
      "metadata": {
        "id": "vFhsmf2w0rAU",
        "colab_type": "text"
      },
      "source": [
        "3. Implement a class to represent a rectangle, holding the length, width, and $x$ and $y$ coordinates of a corner of the object. Implement functions that compute the area and parameter of the rectangle. Make all data members private and privide accessors to retrieve values of data members. "
      ]
    },
    {
      "cell_type": "code",
      "metadata": {
        "id": "afnqVp4i0rAV",
        "colab_type": "code",
        "colab": {}
      },
      "source": [
        "class rectangle:\n",
        "    def __init__(self,width,length,x,y):\n",
        "        self.__width=width\n",
        "        self.__length=length\n",
        "        self.__x=x\n",
        "        self.__y=y\n",
        "        \n",
        "    def area(self):\n",
        "        return self.__width*self.__length\n",
        "    \n",
        "    def perimeter(self):\n",
        "        return 2*(self.__width+self.__length)\n",
        "    \n",
        "    def x(self):\n",
        "        return self.__x\n",
        "    \n",
        "    def y(self):\n",
        "      return self.__y\n",
        "\n",
        "        "
      ],
      "execution_count": 0,
      "outputs": []
    },
    {
      "cell_type": "markdown",
      "metadata": {
        "id": "95IjDa3V0rAo",
        "colab_type": "text"
      },
      "source": [
        "4. Implement a class to represent a circle, holding the radius and $x$ and $y$ coordinates of center of the object. Implement functions that compute the area and parameter of the rectangle. Make all data members private and privide accessors to retrieve values of data members. "
      ]
    },
    {
      "cell_type": "code",
      "metadata": {
        "id": "hhlJVeAK1lB7",
        "colab_type": "code",
        "colab": {}
      },
      "source": [
        "import numpy as np\n",
        "class circle:\n",
        "  def __init(self, radius, x_center, y_center):\n",
        "    self.__radius=radius\n",
        "    self.__x_center=x_center\n",
        "    self.__y_center=y_center\n",
        "\n",
        "  def area(self):\n",
        "    return np.pi*self.__radius**2\n",
        "\n",
        "  def perimeter(self):\n",
        "    return 2*np.pi*self.__radius\n",
        "  \n",
        "  def radius(self):\n",
        "    return self.__radius\n",
        "  \n",
        "  def x(self):\n",
        "    return self.__x_center\n",
        "\n",
        "  def y(self):\n",
        "    return self.__y_center\n",
        "\n",
        "  "
      ],
      "execution_count": 0,
      "outputs": []
    },
    {
      "cell_type": "markdown",
      "metadata": {
        "id": "krEp0Rr20rAr",
        "colab_type": "text"
      },
      "source": [
        "5. Implement a common base class for the classes implemented in 3 and 4 above which implements all common methods as dummy functions. Re-implement those classes to inherit from the base class and overload the functions accordingly. "
      ]
    },
    {
      "cell_type": "code",
      "metadata": {
        "id": "AVdoKL3V44-3",
        "colab_type": "code",
        "colab": {}
      },
      "source": [
        "import numpy as np\n",
        "\n",
        "class shape:\n",
        "  def __init(self,x,y):\n",
        "    self.x=x\n",
        "    self.y=y\n",
        "\n",
        "  def x(self):\n",
        "    return NotImplementedError\n",
        "\n",
        "  def y(self):\n",
        "    return NotImplementedError\n",
        "\n",
        "class rectangle:\n",
        "  def __init__(self,width,length,x,y):\n",
        "        super(rectangle,self).__init(x,y)\n",
        "        self.__width=width\n",
        "        self.__length=length\n",
        "        \n",
        "  def area(self):\n",
        "      return self.__width*self.__length\n",
        "  \n",
        "  def perimeter(self):\n",
        "      return 2*(self.__width+self.__length)\n",
        "  \n",
        "  def x(self):\n",
        "      return self.x\n",
        "  \n",
        "  def y(self):\n",
        "    return self.y\n",
        "\n",
        "class circle:\n",
        "  def __init(self, radius, x, y):\n",
        "    super(circle,self).__init(x,y)\n",
        "    self.__radius=radius\n",
        "\n",
        "\n",
        "  def area(self):\n",
        "    return np.pi*self.__radius**2\n",
        "\n",
        "  def perimeter(self):\n",
        "    return 2*np.pi*self.__radius\n",
        "  \n",
        "  def radius(self):\n",
        "    return self.__radius\n",
        "  \n",
        "  def x(self):\n",
        "    return self.x\n",
        "\n",
        "  def y(self):\n",
        "    return self.y\n",
        "\n"
      ],
      "execution_count": 0,
      "outputs": []
    },
    {
      "cell_type": "markdown",
      "metadata": {
        "id": "sZIxAXFX0rAv",
        "colab_type": "text"
      },
      "source": [
        "6. Implement an analogous triangle class."
      ]
    },
    {
      "cell_type": "code",
      "metadata": {
        "id": "0Dl9_fZD7qrZ",
        "colab_type": "code",
        "colab": {}
      },
      "source": [
        "class triangle:\n",
        "  def __init(self, base, height, x, y):\n",
        "    self.base=base\n",
        "    self.height=height\n",
        "    self.x=x\n",
        "    self.y=y\n",
        "\n",
        "  def area(self):\n",
        "    return self.base*self.height*(1/2)\n",
        "\n",
        "  def perimeter(self): #equilateral \n",
        "    return self.base*3\n",
        "\n",
        "  def x(self):\n",
        "    return self.x\n",
        "\n",
        "  def y(self):\n",
        "    return self.y\n",
        "\n",
        "  def base(self):\n",
        "    return self.base\n",
        "\n",
        "  def height(self):\n",
        "    return self.height\n",
        "\n",
        "    \n",
        "\n"
      ],
      "execution_count": 0,
      "outputs": []
    },
    {
      "cell_type": "markdown",
      "metadata": {
        "id": "8H9R-5UH0rAx",
        "colab_type": "text"
      },
      "source": [
        "7. Add a function to the object classes that test if a given set of $x$ and $y$ coordinates are inside of the object."
      ]
    },
    {
      "cell_type": "code",
      "metadata": {
        "id": "81zM-yQe9Zxc",
        "colab_type": "code",
        "colab": {}
      },
      "source": [
        "#assume every x,y coordinate of shape is the center\n",
        "import numpy as np\n",
        "\n",
        "class shape:\n",
        "  def __init(self,x,y):\n",
        "    self.x=x\n",
        "    self.y=y\n",
        "\n",
        "  def x(self):\n",
        "    return NotImplementedError\n",
        "\n",
        "  def y(self):\n",
        "    return NotImplementedError\n",
        "\n",
        "  def checkpoint(self):\n",
        "    return NotImplementedError\n",
        "\n",
        "class rectangle:\n",
        "  def __init__(self,width,length,x,y):\n",
        "        super(rectangle,self).__init(x,y)\n",
        "        self.__width=width\n",
        "        self.__length=length\n",
        "        \n",
        "  def area(self):\n",
        "      return self.__width*self.__length\n",
        "  \n",
        "  def perimeter(self):\n",
        "      return 2*(self.__width+self.__length)\n",
        "  \n",
        "  def x(self):\n",
        "      return self.x\n",
        "  \n",
        "  def y(self):\n",
        "    return self.y\n",
        "\n",
        "  def checkpoint(xtest,ytest):\n",
        "    if self.x-(self.__length/2)<xtest<self.x+(self.__length/2) and self.y-(self.__width/2)<ytest<self.y+(self.__width/2):\n",
        "      return True\n",
        "    else:\n",
        "      return False\n",
        "\n",
        "class circle:\n",
        "  def __init(self, radius, x, y):\n",
        "    super(circle,self).__init(x,y)\n",
        "    self.__radius=radius\n",
        "\n",
        "\n",
        "  def area(self):\n",
        "    return np.pi*self.__radius**2\n",
        "\n",
        "  def perimeter(self):\n",
        "    return 2*np.pi*self.__radius\n",
        "  \n",
        "  def radius(self):\n",
        "    return self.__radius\n",
        "  \n",
        "  def x(self):\n",
        "    return self.x\n",
        "\n",
        "  def y(self):\n",
        "    return self.y\n",
        "\n",
        "  def checkpoint(self,xtest,ytest):\n",
        "    d = sqrt((xtest-self.x)**2 + (ytest-self.y)**2)\n",
        "    if d < r:\n",
        "      return True\n",
        "    else:\n",
        "      return False\n",
        "\n",
        "class triangle:\n",
        "  def __init(self, base, height, x, y):\n",
        "    self.base=base\n",
        "    self.height=height\n",
        "    self.x=x\n",
        "    self.y=y\n",
        "\n",
        "  def area(self):\n",
        "    return self.base*self.height*(1/2)\n",
        "\n",
        "  def perimeter(self): #equilateral \n",
        "    return self.base*3\n",
        "\n",
        "  def x(self):\n",
        "    return self.x\n",
        "\n",
        "  def y(self):\n",
        "    return self.y\n",
        "\n",
        "  def base(self):\n",
        "    return self.base\n",
        "\n",
        "  def height(self):\n",
        "    return self.height\n",
        "\n",
        "  #def checkpoint(self, xtest, ytest):\n",
        "\n",
        "\n",
        "\n",
        "\n",
        "\n",
        "\n"
      ],
      "execution_count": 0,
      "outputs": []
    },
    {
      "cell_type": "markdown",
      "metadata": {
        "id": "Y7il_ASy0rAy",
        "colab_type": "text"
      },
      "source": [
        "8. Add a function to the object classes that return a list of up to 16 pairs of  $x$ and $y$ points on the parameter of the object.\n",
        "\n"
      ]
    },
    {
      "cell_type": "code",
      "metadata": {
        "id": "daP4imXw_y7Y",
        "colab_type": "code",
        "colab": {}
      },
      "source": [
        "#assuming every x,y coordinate of a shape is the center\n",
        "\n"
      ],
      "execution_count": 0,
      "outputs": []
    },
    {
      "cell_type": "markdown",
      "metadata": {
        "id": "J4D17Cuo0rA0",
        "colab_type": "text"
      },
      "source": [
        "9. Add a function in the base class of the object classes that returns true/false testing that the object overlaps with another object."
      ]
    },
    {
      "cell_type": "code",
      "metadata": {
        "id": "Ctfbhsus_z6p",
        "colab_type": "code",
        "colab": {}
      },
      "source": [
        ""
      ],
      "execution_count": 0,
      "outputs": []
    }
  ]
}