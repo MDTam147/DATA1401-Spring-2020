{
  "nbformat": 4,
  "nbformat_minor": 0,
  "metadata": {
    "kernelspec": {
      "display_name": "Python 3",
      "language": "python",
      "name": "python3"
    },
    "language_info": {
      "codemirror_mode": {
        "name": "ipython",
        "version": 3
      },
      "file_extension": ".py",
      "mimetype": "text/x-python",
      "name": "python",
      "nbconvert_exporter": "python",
      "pygments_lexer": "ipython3",
      "version": "3.8.0"
    },
    "colab": {
      "name": "Final_Solutions.ipynb",
      "provenance": [],
      "collapsed_sections": []
    }
  },
  "cells": [
    {
      "cell_type": "markdown",
      "metadata": {
        "id": "QDANAGV3m_H6",
        "colab_type": "text"
      },
      "source": [
        "# Final Exam\n",
        "\n",
        "[![Open In Colab](https://colab.research.google.com/assets/colab-badge.svg)](https://colab.research.google.com/github//afarbin/DATA1401-Spring-2020/blob/master/Exams/Final/Final.ipynb)"
      ]
    },
    {
      "cell_type": "markdown",
      "metadata": {
        "id": "8t9n7Lrum_H9",
        "colab_type": "text"
      },
      "source": [
        "Recall the drawing system from lecture 18:"
      ]
    },
    {
      "cell_type": "code",
      "metadata": {
        "id": "L31PTUfom_H_",
        "colab_type": "code",
        "colab": {}
      },
      "source": [
        "class Canvas:\n",
        "    def __init__(self, width, height):\n",
        "        self.width = width\n",
        "        self.height = height\n",
        "        self.data = [[' '] * width for i in range(height)]\n",
        "\n",
        "    def set_pixel(self, row, col, char='*'):\n",
        "        self.data[row][col] = char\n",
        "\n",
        "    def get_pixel(self, row, col):\n",
        "        return self.data[row][col]\n",
        "    \n",
        "    def h_line(self, x, y, w, **kargs):\n",
        "        for i in range(x,x+w):\n",
        "            self.set_pixel(i,y, **kargs)\n",
        "\n",
        "    def v_line(self, x, y, h, **kargs):\n",
        "        for i in range(y,y+h):\n",
        "            self.set_pixel(x,i, **kargs)\n",
        "            \n",
        "    def line(self, x1, y1, x2, y2, **kargs):\n",
        "        slope = (y2-y1) / (x2-x1)\n",
        "        for y in range(y1,y2):\n",
        "            x= int(slope * y)\n",
        "            self.set_pixel(x,y, **kargs)\n",
        "            \n",
        "    def display(self):\n",
        "        print(\"\\n\".join([\"\".join(row) for row in self.data]))"
      ],
      "execution_count": 0,
      "outputs": []
    },
    {
      "cell_type": "code",
      "metadata": {
        "id": "aHxS6fXAm_IJ",
        "colab_type": "code",
        "colab": {}
      },
      "source": [
        "class Shape:\n",
        "    def __init__(self, name=\"\", **kwargs):\n",
        "        self.name=name\n",
        "        self.kwargs=kwargs\n",
        "    \n",
        "    def paint(self, canvas): pass\n",
        "\n",
        "    def __str__(self):\n",
        "      print('Shape('+self.name+')')\n",
        "\n",
        "class Rectangle(Shape):\n",
        "    def __init__(self, x, y, w, h, **kwargs):\n",
        "        Shape.__init__(self, **kwargs)\n",
        "        self.x = x\n",
        "        self.y = y\n",
        "        self.w = w\n",
        "        self.h = h\n",
        "\n",
        "    def paint(self, canvas):\n",
        "        canvas.h_line(self.x, self.y, self.w, **self.kwargs)\n",
        "        canvas.h_line(self.x, self.y + self.h, self.w, **self.kwargs)\n",
        "        canvas.v_line(self.x, self.y, self.h, **self.kwargs)\n",
        "        canvas.v_line(self.x + self.w, self.y, self.h, **self.kwargs)\n",
        "\n",
        "    def __str__(self):\n",
        "      print('Rectangle('+str(self.x)+','+str(self.y)+','+str(self.w)+','+str(self.h)+')')\n",
        "\n",
        "class Square(Rectangle):\n",
        "    def __init__(self, x, y, size, **kwargs):\n",
        "        Rectangle.__init__(self, x, y, size, size, **kwargs)\n",
        "\n",
        "    def __str__(self):\n",
        "      print('Square('+str(x)+','+str(y)+','+str(size)+')')\n",
        "\n",
        "class Line(Shape):\n",
        "    def __init__(self, x1, y1, x2, y2,  **kwargs):\n",
        "        Shape.__init__(self, **kwargs)\n",
        "        self.x1=x1\n",
        "        self.y1=y1\n",
        "        self.x2=x2\n",
        "        self.y2=y2\n",
        "        \n",
        "    def paint(self, canvas):\n",
        "        canvas.line(self.x1,self.y1,self.x2,self.y2)\n",
        "\n",
        "    def __str__(self):\n",
        "      print('Line('+str(self.x1)+','+str(self.y1)+','+str(self.x2)+','+str(self.y2)+')')\n",
        "        \n",
        "class CompoundShape(Shape):\n",
        "    def __init__(self, shapes):\n",
        "        self.shapes = shapes\n",
        "\n",
        "    def paint(self, canvas):\n",
        "        for s in self.shapes:\n",
        "            s.paint(canvas)"
      ],
      "execution_count": 0,
      "outputs": []
    },
    {
      "cell_type": "code",
      "metadata": {
        "id": "WxMpNX41m_IP",
        "colab_type": "code",
        "colab": {}
      },
      "source": [
        "class RasterDrawing:\n",
        "    def __init__(self):\n",
        "        self.shapes=dict()\n",
        "        self.shape_names=list()\n",
        "        \n",
        "    def add_shape(self,shape):\n",
        "        if shape.name == \"\":\n",
        "            shape.name = self.assign_name()\n",
        "        \n",
        "        self.shapes[shape.name]=shape\n",
        "        self.shape_names.append(shape.name)\n",
        "        \n",
        "    def paint(self,canvas):\n",
        "        for shape_name in self.shape_names:\n",
        "            self.shapes[shape_name].paint(canvas)\n",
        "            \n",
        "    def assign_name(self):\n",
        "        name_base=\"shape\"\n",
        "        name = name_base+\"_0\"\n",
        "        \n",
        "        i=1\n",
        "        while name in self.shapes:\n",
        "            name = name_base+\"_\"+str(i)\n",
        "            \n",
        "        return name\n"
      ],
      "execution_count": 0,
      "outputs": []
    },
    {
      "cell_type": "markdown",
      "metadata": {
        "id": "tVJ0yOvJm_IW",
        "colab_type": "text"
      },
      "source": [
        "1. Add `Point` and `Triangle` classes and test them."
      ]
    },
    {
      "cell_type": "code",
      "metadata": {
        "id": "yVooHGm2m_IX",
        "colab_type": "code",
        "colab": {
          "base_uri": "https://localhost:8080/",
          "height": 544
        },
        "outputId": "8562c236-6a5c-4870-c562-d3b3ed390803"
      },
      "source": [
        "class Triangle(Shape):\n",
        "  def __init__(self, x, y, x2, y2, x3, y3, **kwargs):\n",
        "    Shape.__init__(self, **kwargs)\n",
        "    self.x = x\n",
        "    self.y = y\n",
        "    self.x2 = x2\n",
        "    self.y2 = y2\n",
        "    self.x3 = x3\n",
        "    self.y3 = y3\n",
        "\n",
        "  #add canvas def -- def line(self, x1, y1, x2, y2, **kargs):\n",
        "  def paint(self, canvas):\n",
        "    canvas.line(self.x, self.y, self.x2, self.y2, **self.kwargs)\n",
        "    canvas.line(self.x2, self.y2, self.x3, self.y3, **self.kwargs)\n",
        "    canvas.line(self.x3, self.y3, self.x, self.y, **self.kwargs)\n",
        "\n",
        "  def __str__(self):\n",
        "      print('Triangle('+str(self.x)+','+str(self.y)+','+str(self.x2)+','+str(self.y2)+','+str(self.x3)+','+str(self.y3)+')')\n",
        "      \n",
        "\n",
        "\n",
        "class Point(Shape):\n",
        "  def __init__(self, x, y, **kwargs):\n",
        "    Shape.__init__(self, **kwargs)\n",
        "    self.x = x\n",
        "    self.y = y\n",
        "\n",
        "  #add canvas def -- probably the get_pixel def in canvas\n",
        "  def paint(self,canvas):\n",
        "    canvas.set_pixel(self.x, self.y, **self.kwargs)\n",
        "\n",
        "  def __str__(self):\n",
        "      print('Point('+str(self.x)+','+str(self.y)+')')\n",
        "\n",
        "c = Canvas(30,30)\n",
        "t=Triangle(5,5,10,10,6,15)\n",
        "t.paint(c)\n",
        "t.__str__()\n",
        "\n",
        "p=Point(8,10)\n",
        "p.paint(c)\n",
        "\n",
        "c.display()\n"
      ],
      "execution_count": 133,
      "outputs": [
        {
          "output_type": "stream",
          "text": [
            "Triangle(5,5,10,10,6,15)\n",
            "                              \n",
            "                              \n",
            "                              \n",
            "                              \n",
            "                              \n",
            "     *                        \n",
            "      *                       \n",
            "       *                      \n",
            "        * *                   \n",
            "         *                    \n",
            "                              \n",
            "                              \n",
            "                              \n",
            "              *               \n",
            "             *                \n",
            "            *                 \n",
            "                              \n",
            "           *                  \n",
            "          *                   \n",
            "                              \n",
            "                              \n",
            "                              \n",
            "                              \n",
            "                              \n",
            "                              \n",
            "                              \n",
            "                              \n",
            "                              \n",
            "                              \n",
            "                              \n"
          ],
          "name": "stdout"
        }
      ]
    },
    {
      "cell_type": "markdown",
      "metadata": {
        "id": "ESD1nVslm_Id",
        "colab_type": "text"
      },
      "source": [
        "2. Add an `Arc` class that is instantiated with a center location, two axis lengths, and starting and ending angles. If start and end are not specified or are the same angle, the `Arc` instance should draw an oval. If in addition the two axes are the same, the `Arc` instance should draw a circle. Create `Oval` and `Circle` classes that inherit from `Arc`. Test everything."
      ]
    },
    {
      "cell_type": "code",
      "metadata": {
        "id": "cH6ee0uJm_Ie",
        "colab_type": "code",
        "colab": {
          "base_uri": "https://localhost:8080/",
          "height": 527
        },
        "outputId": "d4fabc3f-8f89-43ab-d858-ff4a34c179a6"
      },
      "source": [
        "class Arc(Shape):\n",
        "  #angles specified as null when making arc\n",
        "  def __init__(self, x, y, l1, l2, a1, a2, **kwargs):\n",
        "    Shape.__init__(self, **kwargs)\n",
        "    self.x = x\n",
        "    self.y = y\n",
        "    self.l1 = l1\n",
        "    self.l2 = l2\n",
        "    self.a1 = a1\n",
        "    self.a2 = a2\n",
        "\n",
        "  def paint(self,canvas):\n",
        "    if a1==a2 or (a1==NULL and a2==NULL):\n",
        "      #draw oval\n",
        "      pass\n",
        "    elif l1==l2:\n",
        "      #draw circle - calculate radius?\n",
        "      pass\n",
        "\n",
        "  def __str__(self):\n",
        "    print('Arc('+x+','+y+','+l1+','+l2+','+a1+','+a2+')')\n",
        "\n",
        "#if angles are not specified or are the same, make an oval\n",
        "class Oval(Arc):\n",
        "  def __init__(self, x, y, l1, l2, a1,a2, **kwargs):\n",
        "    Arc.__init__(self, **kwargs)\n",
        "    self.x = x\n",
        "    self.y = y\n",
        "    self.l1 = l1\n",
        "    self.l2 = l2\n",
        "    self.a1 = a1\n",
        "\n",
        "  def __str__(self):\n",
        "    print('Oval('+x+','+y+','+l1+','+l2+','+a1+','+a2+')')\n",
        "\n",
        "#if lengths are the same, make a circle\n",
        "#s=r*theta ... r = s/theta\n",
        "class Circle(Arc):\n",
        "  def __init__(self,x,y,l1,l2,a1,a2, **kwargs):\n",
        "    Arc.__init__(self,**kwargs)\n",
        "    self.x=x\n",
        "    self.y=y\n",
        "    self.l1=l1\n",
        "    self.a1=a1\n",
        "\n",
        "  def __str__(self):\n",
        "    print('Circle('+x+','+y+','+l1+','+l2+','+a1+','+a2+')')\n",
        "\n",
        "#code to test\n",
        "c = Canvas(30,30)\n",
        "a = Arc(40,40,10,15,20,20)\n",
        "a.paint(c)\n",
        "\n",
        "c.display()\n"
      ],
      "execution_count": 92,
      "outputs": [
        {
          "output_type": "stream",
          "text": [
            "                              \n",
            "                              \n",
            "                              \n",
            "                              \n",
            "                              \n",
            "                              \n",
            "                              \n",
            "                              \n",
            "                              \n",
            "                              \n",
            "                              \n",
            "                              \n",
            "                              \n",
            "                              \n",
            "                              \n",
            "                              \n",
            "                              \n",
            "                              \n",
            "                              \n",
            "                              \n",
            "                              \n",
            "                              \n",
            "                              \n",
            "                              \n",
            "                              \n",
            "                              \n",
            "                              \n",
            "                              \n",
            "                              \n",
            "                              \n"
          ],
          "name": "stdout"
        }
      ]
    },
    {
      "cell_type": "markdown",
      "metadata": {
        "id": "ee-cBpVKm_Ik",
        "colab_type": "text"
      },
      "source": [
        "3. Use your classes to create a `RasterDrawing` that draws a happy face."
      ]
    },
    {
      "cell_type": "code",
      "metadata": {
        "id": "2qt_nIHfm_Il",
        "colab_type": "code",
        "colab": {
          "base_uri": "https://localhost:8080/",
          "height": 1000
        },
        "outputId": "6acbc2a6-b53b-4096-9c53-1e6eacfb3df9"
      },
      "source": [
        "import csv\n",
        "\n",
        "class RasterDrawing:\n",
        "  def __init__(self):\n",
        "    self.shapes=dict()\n",
        "    self.shape_names=list()\n",
        "    \n",
        "  def add_shape(self,shape):\n",
        "    if shape.name == \"\":\n",
        "        shape.name = self.assign_name()\n",
        "    \n",
        "    self.shapes[shape.name]=shape\n",
        "    self.shape_names.append(shape.name)\n",
        "    \n",
        "  def paint(self,canvas):\n",
        "    for shape_name in self.shape_names:\n",
        "        self.shapes[shape_name].paint(canvas)\n",
        "        \n",
        "  def assign_name(self):\n",
        "    name_base=\"shape\"\n",
        "    name = name_base+\"_0\"\n",
        "    \n",
        "    i=1\n",
        "    while name in self.shapes:\n",
        "      name = name+\"_\"+str(i)\n",
        "\n",
        "    return name\n",
        "\n",
        "  def draw(self,canvas):\n",
        "    canvas.set_pixel(10, 32)\n",
        "    canvas.set_pixel(10, 58)\n",
        "    canvas.h_line(12,25,3)\n",
        "    canvas.v_line(15,25,41)\n",
        "    canvas.h_line(12,65,3)\n",
        "\n",
        "  def save(filename):\n",
        "    saved = []\n",
        "    for name in self.shapes:\n",
        "      saved.append(name.__str__())\n",
        "\n",
        "    with open(filename, 'w', newline='') as myfile:\n",
        "     out = csv.writer(myfile, quoting=csv.QUOTE_ALL)\n",
        "     out.writerow(mylist)\n",
        "  \n",
        "  def load(filename):\n",
        "    data = []\n",
        "\n",
        "    with open(filename, 'r') as csvfile:\n",
        "        csvreader = csv.reader(csvfile)\n",
        "        data = list(csvreader)\n",
        "        d = [item for sublist in data for item in sublist]\n",
        "\n",
        "    for i in d:\n",
        "      eval(i)\n",
        "        \n",
        "\n",
        "#test\n",
        "c = Canvas(70, 70)\n",
        "rd = RasterDrawing()\n",
        "#replace variables with numbers!!!!\n",
        "#rd.add_shape(Arc(x1,y1,l,a))\n",
        "\n",
        "rd.add_shape(Point(10, 32))\n",
        "rd.add_shape(Point(10, 58))\n",
        "\n",
        "\"\"\"rd.add_shape(Line(25,25,40,25))\n",
        "rd.add_shape(Line(40,25,40,70))\n",
        "rd.add_shape(Line(25,70,40,70))\n",
        "rd.paint(c)\"\"\"\n",
        "\n",
        "#rd.draw(c)\n",
        "rd.paint(c)\n",
        "c.display()"
      ],
      "execution_count": 138,
      "outputs": [
        {
          "output_type": "stream",
          "text": [
            "                                                                      \n",
            "                                                                      \n",
            "                                                                      \n",
            "                                                                      \n",
            "                                                                      \n",
            "                                                                      \n",
            "                                                                      \n",
            "                                                                      \n",
            "                                                                      \n",
            "                                                                      \n",
            "                                *                         *           \n",
            "                                                                      \n",
            "                                                                      \n",
            "                                                                      \n",
            "                                                                      \n",
            "                                                                      \n",
            "                                                                      \n",
            "                                                                      \n",
            "                                                                      \n",
            "                                                                      \n",
            "                                                                      \n",
            "                                                                      \n",
            "                                                                      \n",
            "                                                                      \n",
            "                                                                      \n",
            "                                                                      \n",
            "                                                                      \n",
            "                                                                      \n",
            "                                                                      \n",
            "                                                                      \n",
            "                                                                      \n",
            "                                                                      \n",
            "                                                                      \n",
            "                                                                      \n",
            "                                                                      \n",
            "                                                                      \n",
            "                                                                      \n",
            "                                                                      \n",
            "                                                                      \n",
            "                                                                      \n",
            "                                                                      \n",
            "                                                                      \n",
            "                                                                      \n",
            "                                                                      \n",
            "                                                                      \n",
            "                                                                      \n",
            "                                                                      \n",
            "                                                                      \n",
            "                                                                      \n",
            "                                                                      \n",
            "                                                                      \n",
            "                                                                      \n",
            "                                                                      \n",
            "                                                                      \n",
            "                                                                      \n",
            "                                                                      \n",
            "                                                                      \n",
            "                                                                      \n",
            "                                                                      \n",
            "                                                                      \n",
            "                                                                      \n",
            "                                                                      \n",
            "                                                                      \n",
            "                                                                      \n",
            "                                                                      \n",
            "                                                                      \n",
            "                                                                      \n",
            "                                                                      \n",
            "                                                                      \n",
            "                                                                      \n"
          ],
          "name": "stdout"
        }
      ]
    },
    {
      "cell_type": "markdown",
      "metadata": {
        "id": "8jempXclm_Ix",
        "colab_type": "text"
      },
      "source": [
        "4. Add to the `Shape` base class a `__str__()` method. Overwrite the method in each shape to generate a string of the python code necessary to reinstantiate the object. For example, for a rectangle originally instantiated using `Square(5,5,20,char=\"^\")`, `__str__()` should return the string `'Square(5,5,20,char=\"^\")'`.\n"
      ]
    },
    {
      "cell_type": "code",
      "metadata": {
        "id": "lhqkvw9Dm_Iz",
        "colab_type": "code",
        "colab": {}
      },
      "source": [
        ""
      ],
      "execution_count": 0,
      "outputs": []
    },
    {
      "cell_type": "markdown",
      "metadata": {
        "id": "34rQ1ujKm_I7",
        "colab_type": "text"
      },
      "source": [
        "5. Add to `RasterDrawing` two functions, `save(filename)` and `load(filename)`. The save function writes the `__str__()` of all of the shapes in the drawing to a file (one shape per line). The load function, reads the file, and instantiates each object using the python `eval(expression)` function, and adds each shape to the drawing, thereby recreating a \"saved\" raster drawing. Use this functionality to save and load your happy face.\n",
        "\n",
        "   `eval` takes a string that contains a fragment of a python code and executes it. Consider the following examples: "
      ]
    },
    {
      "cell_type": "code",
      "metadata": {
        "id": "heo59EPtm_I-",
        "colab_type": "code",
        "colab": {}
      },
      "source": [
        "eval(\"print('Hello')\")"
      ],
      "execution_count": 0,
      "outputs": []
    },
    {
      "cell_type": "code",
      "metadata": {
        "id": "xnMLYGRGm_JF",
        "colab_type": "code",
        "colab": {}
      },
      "source": [
        "x = eval('1+2')\n",
        "print(x)"
      ],
      "execution_count": 0,
      "outputs": []
    },
    {
      "cell_type": "code",
      "metadata": {
        "id": "cz1quZg2m_JL",
        "colab_type": "code",
        "colab": {}
      },
      "source": [
        "import csv\n",
        "\n",
        "class RasterDrawing:\n",
        "  def __init__(self):\n",
        "    self.shapes=dict()\n",
        "    self.shape_names=list()\n",
        "    \n",
        "  def add_shape(self,shape):\n",
        "    if shape.name == \"\":\n",
        "        shape.name = self.assign_name()\n",
        "    \n",
        "    self.shapes[shape.name]=shape\n",
        "    self.shape_names.append(shape.name)\n",
        "    \n",
        "  def paint(self,canvas):\n",
        "    for shape_name in self.shape_names:\n",
        "        self.shapes[shape_name].paint(canvas)\n",
        "        \n",
        "  def assign_name(self):\n",
        "    name_base=\"shape\"\n",
        "    name = name_base+\"_0\"\n",
        "    \n",
        "    i=1\n",
        "    while name in self.shapes:\n",
        "      name = name+\"_\"+str(i)\n",
        "\n",
        "    return name\n",
        "\n",
        "  def save(self,filename):\n",
        "    saved = []\n",
        "    for name in self.shapes:\n",
        "      saved.append(name.__str__())\n",
        "\n",
        "    with open(filename, 'w', newline='') as myfile:\n",
        "     out = csv.writer(myfile, quoting=csv.QUOTE_ALL)\n",
        "     out.writerow(saved)\n",
        "  \n",
        "  def load(self,filename):\n",
        "    data = []\n",
        "\n",
        "    with open(filename, 'r') as csvfile:\n",
        "        csvreader = csv.reader(csvfile)\n",
        "        data = list(csvreader)\n",
        "        d = [item for sublist in data for item in sublist]\n",
        "\n",
        "    for i in d:\n",
        "      eval(i)"
      ],
      "execution_count": 0,
      "outputs": []
    },
    {
      "cell_type": "code",
      "metadata": {
        "id": "qGEQtZCAmtYX",
        "colab_type": "code",
        "colab": {
          "base_uri": "https://localhost:8080/",
          "height": 316
        },
        "outputId": "e8017772-55f0-41a0-bb7e-b01addbddeeb"
      },
      "source": [
        "c = Canvas(70, 70)\n",
        "rd = RasterDrawing()\n",
        "#replace variables with numbers!!!!\n",
        "#rd.add_shape(Arc(x1,y1,l,a))\n",
        "\n",
        "rd.add_shape(Point(10, 32))\n",
        "rd.add_shape(Point(10, 58))\n",
        "\n",
        "rd.save('test.csv')\n",
        "rd.load('test.csv')"
      ],
      "execution_count": 146,
      "outputs": [
        {
          "output_type": "error",
          "ename": "NameError",
          "evalue": "ignored",
          "traceback": [
            "\u001b[0;31m---------------------------------------------------------------------------\u001b[0m",
            "\u001b[0;31mNameError\u001b[0m                                 Traceback (most recent call last)",
            "\u001b[0;32m<ipython-input-146-e46951374818>\u001b[0m in \u001b[0;36m<module>\u001b[0;34m()\u001b[0m\n\u001b[1;32m      8\u001b[0m \u001b[0;34m\u001b[0m\u001b[0m\n\u001b[1;32m      9\u001b[0m \u001b[0mrd\u001b[0m\u001b[0;34m.\u001b[0m\u001b[0msave\u001b[0m\u001b[0;34m(\u001b[0m\u001b[0;34m'test.csv'\u001b[0m\u001b[0;34m)\u001b[0m\u001b[0;34m\u001b[0m\u001b[0;34m\u001b[0m\u001b[0m\n\u001b[0;32m---> 10\u001b[0;31m \u001b[0mrd\u001b[0m\u001b[0;34m.\u001b[0m\u001b[0mload\u001b[0m\u001b[0;34m(\u001b[0m\u001b[0;34m'test.csv'\u001b[0m\u001b[0;34m)\u001b[0m\u001b[0;34m\u001b[0m\u001b[0;34m\u001b[0m\u001b[0m\n\u001b[0m",
            "\u001b[0;32m<ipython-input-144-b1a1f5fc3917>\u001b[0m in \u001b[0;36mload\u001b[0;34m(self, filename)\u001b[0m\n\u001b[1;32m     45\u001b[0m \u001b[0;34m\u001b[0m\u001b[0m\n\u001b[1;32m     46\u001b[0m     \u001b[0;32mfor\u001b[0m \u001b[0mi\u001b[0m \u001b[0;32min\u001b[0m \u001b[0md\u001b[0m\u001b[0;34m:\u001b[0m\u001b[0;34m\u001b[0m\u001b[0;34m\u001b[0m\u001b[0m\n\u001b[0;32m---> 47\u001b[0;31m       \u001b[0meval\u001b[0m\u001b[0;34m(\u001b[0m\u001b[0mi\u001b[0m\u001b[0;34m)\u001b[0m\u001b[0;34m\u001b[0m\u001b[0;34m\u001b[0m\u001b[0m\n\u001b[0m",
            "\u001b[0;32m<string>\u001b[0m in \u001b[0;36m<module>\u001b[0;34m()\u001b[0m\n",
            "\u001b[0;31mNameError\u001b[0m: name 'shape_0' is not defined"
          ]
        }
      ]
    }
  ]
}