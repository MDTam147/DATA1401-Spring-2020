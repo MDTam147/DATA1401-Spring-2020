{
  "nbformat": 4,
  "nbformat_minor": 0,
  "metadata": {
    "kernelspec": {
      "display_name": "Python 3",
      "language": "python",
      "name": "python3"
    },
    "language_info": {
      "codemirror_mode": {
        "name": "ipython",
        "version": 3
      },
      "file_extension": ".py",
      "mimetype": "text/x-python",
      "name": "python",
      "nbconvert_exporter": "python",
      "pygments_lexer": "ipython3",
      "version": "3.8.1"
    },
    "colab": {
      "name": "Copy of Exam.ipynb",
      "provenance": []
    }
  },
  "cells": [
    {
      "cell_type": "markdown",
      "metadata": {
        "id": "f0rCP4NLmOdb",
        "colab_type": "text"
      },
      "source": [
        "# Mid-term Exam\n",
        "\n",
        "[![Open In Colab](https://colab.research.google.com/assets/colab-badge.svg)](https://colab.research.google.com/github//afarbin/DATA1401-Spring-2020/blob/master/Exams/Mid-term/Exam.ipynb)\n",
        "\n",
        "Add cells to this notebook as you need for your solutions and your test of your solutions."
      ]
    },
    {
      "cell_type": "markdown",
      "metadata": {
        "id": "Zo4TQCnImOde",
        "colab_type": "text"
      },
      "source": [
        "1. Write a function `first_alphabetically(lst)` that takes a list `lst` of strings and returns the string that is alphabetically first. For example, calling your function with the list of states:"
      ]
    },
    {
      "cell_type": "code",
      "metadata": {
        "id": "K12hzdunmOdf",
        "colab_type": "code",
        "colab": {}
      },
      "source": [
        "states=['Mississippi', 'Maryland', 'Delaware', 'Connecticut', 'Virginia', 'Utah', 'Kansas',\n",
        "        'Wyoming', 'Indiana', 'Louisiana', 'Missouri', 'Illinois', 'Minnesota', 'Vermont', \n",
        "        'New Mexico', 'North Dakota', 'Wisconsin', 'Tennessee', 'New York', 'Oklahoma', \n",
        "        'Colorado', 'Pennsylvania', 'West Virginia', 'Alabama', 'Montana', 'Texas', \n",
        "        'Washington', 'Michigan', 'New Hampshire', 'Arkansas', 'Hawaii', 'Iowa', \n",
        "        'Idaho', 'Kentucky', 'Ohio', 'Nebraska', 'Alaska', 'Oregon', 'South Dakota', \n",
        "        'New Jersey', 'Florida', 'Georgia', 'Rhode Island', 'Arizona', 'Maine', \n",
        "        'South Carolina', 'California', 'Nevada', 'Massachusetts', 'North Carolina']"
      ],
      "execution_count": 0,
      "outputs": []
    },
    {
      "cell_type": "markdown",
      "metadata": {
        "id": "9KjvMk06mOdo",
        "colab_type": "text"
      },
      "source": [
        "should return the string `\"Alabama\"`. Note that you can compare strings:"
      ]
    },
    {
      "cell_type": "code",
      "metadata": {
        "id": "i7gBb3u3mOdq",
        "colab_type": "code",
        "colab": {
          "base_uri": "https://localhost:8080/",
          "height": 102
        },
        "outputId": "e3e0bc06-a29d-486d-8075-031b4624d6eb"
      },
      "source": [
        "print(\"A\">\"B\")\n",
        "print(\"B\">\"A\")\n",
        "print(\"A\">\"a\")\n",
        "print(\"bca\">\"bbc\")\n",
        "print(\"bbjesl\">\"bb\")"
      ],
      "execution_count": 4,
      "outputs": [
        {
          "output_type": "stream",
          "text": [
            "False\n",
            "True\n",
            "False\n",
            "True\n",
            "True\n"
          ],
          "name": "stdout"
        }
      ]
    },
    {
      "cell_type": "markdown",
      "metadata": {
        "id": "Tr6dMuE6mOdy",
        "colab_type": "text"
      },
      "source": [
        "Make sure your implementation isn't case sensitive. Do not use python's built-in `min`, `max`, `sort` or any other sort function you find."
      ]
    },
    {
      "cell_type": "code",
      "metadata": {
        "id": "ap72Tz1Cmhw0",
        "colab_type": "code",
        "colab": {}
      },
      "source": [
        "def first_alphabetically(lst):\n",
        "  l = [i for i in lst]\n",
        "\n",
        "  for i in range(len(l)):\n",
        "    for j in range(0, len(l)-i-1):\n",
        "      if l[j] > l[j+1]:\n",
        "        l[j], l[j+1] = l[j+1],l[j]\n",
        "      \"\"\"if lst[j]>lst[j+1]:\n",
        "        lst[j], lst[j+1] = lst[j+1],lst[j]\"\"\"\n",
        "\n",
        "\n",
        "  return l[0]\n",
        "\n"
      ],
      "execution_count": 0,
      "outputs": []
    },
    {
      "cell_type": "code",
      "metadata": {
        "id": "BLvZK4a3pV8J",
        "colab_type": "code",
        "colab": {
          "base_uri": "https://localhost:8080/",
          "height": 34
        },
        "outputId": "044b1e0e-c967-45e7-f38d-130c4d17f109"
      },
      "source": [
        "print(first_alphabetically(states))"
      ],
      "execution_count": 105,
      "outputs": [
        {
          "output_type": "stream",
          "text": [
            "Alabama\n"
          ],
          "name": "stdout"
        }
      ]
    },
    {
      "cell_type": "markdown",
      "metadata": {
        "id": "89w3G4ahmOdz",
        "colab_type": "text"
      },
      "source": [
        "2. Write a function `arg_first_alphabetically(lst)`, which does the same thing as in exercise 1 but returns the index of the first string alphabetically."
      ]
    },
    {
      "cell_type": "code",
      "metadata": {
        "id": "eprqaB0Cr6kG",
        "colab_type": "code",
        "colab": {}
      },
      "source": [
        "def arg_first_alphabetically(lst):\n",
        "  l = [i for i in lst]\n",
        "\n",
        "  for i in range(len(l)):\n",
        "    for j in range(0, len(l)-i-1):\n",
        "      if l[j] > l[j+1]:\n",
        "        l[j], l[j+1] = l[j+1],l[j]\n",
        "      \"\"\"if lst[j]>lst[j+1]:\n",
        "        lst[j], lst[j+1] = lst[j+1],lst[j]\"\"\"\n",
        "\n",
        "\n",
        "  return lst.index(l[0])"
      ],
      "execution_count": 0,
      "outputs": []
    },
    {
      "cell_type": "code",
      "metadata": {
        "id": "0ocQpW1_s5S6",
        "colab_type": "code",
        "colab": {
          "base_uri": "https://localhost:8080/",
          "height": 34
        },
        "outputId": "64d51ba5-3777-4c23-bb55-642492bb4426"
      },
      "source": [
        "print(arg_first_alphabetically(states))"
      ],
      "execution_count": 108,
      "outputs": [
        {
          "output_type": "stream",
          "text": [
            "23\n"
          ],
          "name": "stdout"
        }
      ]
    },
    {
      "cell_type": "markdown",
      "metadata": {
        "id": "0TIt22EqmOd0",
        "colab_type": "text"
      },
      "source": [
        "3. Use your result in question 2 to implement a function `arg_sort_alphabetically(lst)` that returns a list that is alphabetically sorted. Sorting can be accomplished by successively applying the function in question 1 and removing the first element alphabetically. You can remove an element from a list using `pop()`. Make sure your implementation isn't case sensitive. Do not use python's built-in `min`, `max`, `sort` or any other sort function you find."
      ]
    },
    {
      "cell_type": "code",
      "metadata": {
        "id": "vKoSp0petm-t",
        "colab_type": "code",
        "colab": {}
      },
      "source": [
        "def arg_sort_alphabetically(lst):\n",
        "  l = [i for i in lst]\n",
        "\n",
        "  for i in range(len(l)):\n",
        "    for j in range(0, len(l)-i-1):\n",
        "      if l[j] > l[j+1]:\n",
        "        l[j], l[j+1] = l[j+1],l[j]\n",
        "      \"\"\"if lst[j]>lst[j+1]:\n",
        "        lst[j], lst[j+1] = lst[j+1],lst[j]\"\"\"\n",
        "\n",
        "\n",
        "  return l"
      ],
      "execution_count": 0,
      "outputs": []
    },
    {
      "cell_type": "code",
      "metadata": {
        "id": "FrsKhdbnuUzA",
        "colab_type": "code",
        "colab": {
          "base_uri": "https://localhost:8080/",
          "height": 54
        },
        "outputId": "5bbf8fd2-aeea-40bb-a71f-8c355973237a"
      },
      "source": [
        "test = arg_sort_alphabetically(states)\n",
        "print(test)"
      ],
      "execution_count": 58,
      "outputs": [
        {
          "output_type": "stream",
          "text": [
            "['Alabama', 'Alaska', 'Arizona', 'Arkansas', 'California', 'Colorado', 'Connecticut', 'Delaware', 'Florida', 'Georgia', 'Hawaii', 'Idaho', 'Illinois', 'Indiana', 'Iowa', 'Kansas', 'Kentucky', 'Louisiana', 'Maine', 'Maryland', 'Massachusetts', 'Michigan', 'Minnesota', 'Mississippi', 'Missouri', 'Montana', 'Nebraska', 'Nevada', 'New Hampshire', 'New Jersey', 'New Mexico', 'New York', 'North Carolina', 'North Dakota', 'Ohio', 'Oklahoma', 'Oregon', 'Pennsylvania', 'Rhode Island', 'South Carolina', 'South Dakota', 'Tennessee', 'Texas', 'Utah', 'Vermont', 'Virginia', 'Washington', 'West Virginia', 'Wisconsin', 'Wyoming']\n"
          ],
          "name": "stdout"
        }
      ]
    },
    {
      "cell_type": "markdown",
      "metadata": {
        "id": "wH0Y2eF3mOd2",
        "colab_type": "text"
      },
      "source": [
        "4. Implement a function `outer_product` that takes two one-dimensional lists of numbers and returns the two-dimensional outer product matrix defined as:\n",
        "\n",
        "\\begin{equation*}\n",
        "\\begin{pmatrix} x_1\\\\x_2\\\\ \\vdots \\\\x_m \\end{pmatrix} \\begin{pmatrix} y_1&y_2& \\dots &y_n\\end{pmatrix} =\n",
        "\\begin{pmatrix}\n",
        "x_1y_1 & x_1y_2 & \\dots & x_1y_n\\\\\n",
        "x_2y_1 & x_2y_2 & \\dots & x_2y_n\\\\\n",
        "\\vdots & \\vdots & \\ddots & \\vdots \\\\\n",
        "x_my_1 & x_my_2 & \\dots & x_my_n\n",
        "\\end{pmatrix}\n",
        "\\end{equation*}\n",
        "\n",
        "In other words the elements of matrix C which is the outer product of A and B are $c_{ij} = a_i b_j$."
      ]
    },
    {
      "cell_type": "code",
      "metadata": {
        "id": "PDbjnyOUuiCO",
        "colab_type": "code",
        "colab": {}
      },
      "source": [
        "def outer_product(l1,l2):\n",
        "  row,col = len(l1),len(l2)\n",
        "  p = [[l1[j]*l2[i] for i in range(col)] for j in range(row)]\n",
        "\n",
        "  return p\n"
      ],
      "execution_count": 0,
      "outputs": []
    },
    {
      "cell_type": "code",
      "metadata": {
        "id": "9IWV9TSQxgk-",
        "colab_type": "code",
        "colab": {
          "base_uri": "https://localhost:8080/",
          "height": 54
        },
        "outputId": "b27cc49b-1a81-419b-d913-c065fb699c6a"
      },
      "source": [
        "a = [1,2,3,4,5]\n",
        "b = [5,6,7,8]\n",
        "\n",
        "p=outer_product(a,b)\n",
        "print(p)"
      ],
      "execution_count": 109,
      "outputs": [
        {
          "output_type": "stream",
          "text": [
            "[[5, 6, 7, 8], [10, 12, 14, 16], [15, 18, 21, 24], [20, 24, 28, 32], [25, 30, 35, 40]]\n"
          ],
          "name": "stdout"
        }
      ]
    },
    {
      "cell_type": "markdown",
      "metadata": {
        "id": "IKrm4u3amOd3",
        "colab_type": "text"
      },
      "source": [
        "5. Implement a function `cumulative_sum(lst)` that takes a list of numbers and returns a list of same size where the element `i` is the sum of the elements `0` to `i` of the input list. For example given `[1,2,3]`, you should return [1,3,6]."
      ]
    },
    {
      "cell_type": "code",
      "metadata": {
        "id": "poUhjT7fzoyd",
        "colab_type": "code",
        "colab": {}
      },
      "source": [
        "def cumulative_sum(lst):\n",
        "  l = []\n",
        "  for i in range(len(lst)):\n",
        "    if i == 0:\n",
        "      l.append(lst[i])\n",
        "    else:\n",
        "      x = l[i-1]+lst[i]\n",
        "      l.append(x)\n",
        "\n",
        "\n",
        "  return l"
      ],
      "execution_count": 0,
      "outputs": []
    },
    {
      "cell_type": "code",
      "metadata": {
        "id": "c0tKSpVN1JW3",
        "colab_type": "code",
        "colab": {
          "base_uri": "https://localhost:8080/",
          "height": 34
        },
        "outputId": "f93c3172-a619-437a-d36f-6a88e73e326b"
      },
      "source": [
        "print(cumulative_sum(a))"
      ],
      "execution_count": 85,
      "outputs": [
        {
          "output_type": "stream",
          "text": [
            "[1, 3, 6, 10, 15]\n"
          ],
          "name": "stdout"
        }
      ]
    },
    {
      "cell_type": "markdown",
      "metadata": {
        "id": "70GeGe5lmOd4",
        "colab_type": "text"
      },
      "source": [
        "6. Imagine you have a normal distributed random variable `x`. For example `x` can be grades on this exam. Using the normal distribution generator and histogram functions from lecture (provided below) and `cumulative_sum` from previous question to compute what is the value of $x_{90}$ in $\\sigma$ such that 90% of the values $x$ are below $x_{90}$. In other words:"
      ]
    },
    {
      "cell_type": "markdown",
      "metadata": {
        "id": "1M6kEt99mOd5",
        "colab_type": "text"
      },
      "source": [
        "$$\n",
        "\\int_{-\\infty}^{x_{90}} N(x;\\mu=0,\\sigma=1) dx = 0.9\n",
        "$$"
      ]
    },
    {
      "cell_type": "code",
      "metadata": {
        "id": "5-07ggbzmOd6",
        "colab_type": "code",
        "colab": {}
      },
      "source": [
        "import math,random\n",
        "\n",
        "def arange(x_min,x_max,steps=10):\n",
        "    step_size=(x_max-x_min)/steps\n",
        "    x=x_min\n",
        "    out = list()\n",
        "    for i in range(steps):\n",
        "        out.append(x)\n",
        "        x+=step_size\n",
        "    return out\n",
        "\n",
        "def generate_normal(N,m=0,s=1):\n",
        "    out = list() \n",
        "    \n",
        "    while len(out)<N:\n",
        "#    for _ in range(int(float(N)/2)+1):\n",
        "        U1=random.random()\n",
        "        U2=random.random()\n",
        "    \n",
        "        out.append(s*math.sqrt(-2*math.log(U1))*math.cos(2*math.pi*U2)+m)\n",
        "        out.append(s*math.sqrt(-2*math.log(U1))*math.sin(2*math.pi*U2)+m)\n",
        "\n",
        "    return out[:N]\n",
        "\n",
        "def histogram(data, n_bins=10,x_min=None, x_max=None):\n",
        "    if x_min==None:\n",
        "        x_min=min(data)\n",
        "    if x_max==None:\n",
        "        x_max=max(data)\n",
        "        \n",
        "    bin_edges = arange(x_min,x_max,n_bins)\n",
        "    bin_edges.append(x_max)\n",
        "\n",
        "    hist=[0]*n_bins\n",
        "    \n",
        "    for d in data:\n",
        "        for i in range(n_bins):\n",
        "            if d>=bin_edges[i] and d<bin_edges[i+1]:\n",
        "                hist[i]+=1\n",
        "                break\n",
        "                \n",
        "    return hist,bin_edges\n",
        "\n",
        "\n"
      ],
      "execution_count": 0,
      "outputs": []
    },
    {
      "cell_type": "code",
      "metadata": {
        "id": "j5wed7EGmOeA",
        "colab_type": "code",
        "colab": {
          "base_uri": "https://localhost:8080/",
          "height": 34
        },
        "outputId": "c59d4de9-7016-49cb-cde4-4c8267fe2017"
      },
      "source": [
        "import math\n",
        "\n",
        "def answer(x):\n",
        "  #calculate 90th percentile, x = mean + z-score(1.282) * stdev(1)\n",
        "  l = generate_normal(x) #generating list\n",
        "  n = arg_sort_alphabetically(l)\n",
        "  index = int(math.ceil(.90*x))\n",
        "  A = n[index]\n",
        "\n",
        "  \"\"\"slist = cumulative_sum(l) #sum of that list\n",
        "  s = slist[-1] #sum\n",
        "  mean = s/x\n",
        "  X = mean + 1.282*1\"\"\"\n",
        "\n",
        "  return(A)\n",
        "\n",
        "print(answer(30))"
      ],
      "execution_count": 161,
      "outputs": [
        {
          "output_type": "stream",
          "text": [
            "1.0464707506866042\n"
          ],
          "name": "stdout"
        }
      ]
    }
  ]
}